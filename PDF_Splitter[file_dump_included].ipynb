{
  "cells": [
    {
      "cell_type": "markdown",
      "metadata": {
        "id": "gG71ceYpyhzf"
      },
      "source": [
        "# PDF Splitter\n",
        "\n",
        "### Overview:\n",
        "The puropose of this notebook is to take a conjoined PDF that containes multiple report cards, where each report card has a specified amount of pages and split them into individual pages. Once split, the report cards are renamed based on Last_First_UID.pdf, and placed in the correct directory. The Cells below are used to accomplish this functionality."
      ]
    },
    {
      "cell_type": "markdown",
      "metadata": {
        "id": "9Ue0otke0nqk"
      },
      "source": [
        "### Import Statements"
      ]
    },
    {
      "cell_type": "code",
      "execution_count": null,
      "metadata": {
        "colab": {
          "base_uri": "https://localhost:8080/"
        },
        "id": "gFELX5Gi0UWT",
        "outputId": "675bbf4c-9b8c-41d8-e0d7-f73bc65f1669"
      },
      "outputs": [
        {
          "output_type": "stream",
          "name": "stdout",
          "text": [
            "Requirement already satisfied: PyPDF2 in /usr/local/lib/python3.10/dist-packages (3.0.1)\n",
            "Requirement already satisfied: pdfplumber in /usr/local/lib/python3.10/dist-packages (0.10.3)\n",
            "Requirement already satisfied: pdfminer.six==20221105 in /usr/local/lib/python3.10/dist-packages (from pdfplumber) (20221105)\n",
            "Requirement already satisfied: Pillow>=9.1 in /usr/local/lib/python3.10/dist-packages (from pdfplumber) (10.2.0)\n",
            "Requirement already satisfied: pypdfium2>=4.18.0 in /usr/local/lib/python3.10/dist-packages (from pdfplumber) (4.26.0)\n",
            "Requirement already satisfied: charset-normalizer>=2.0.0 in /usr/local/lib/python3.10/dist-packages (from pdfminer.six==20221105->pdfplumber) (3.3.2)\n",
            "Requirement already satisfied: cryptography>=36.0.0 in /usr/local/lib/python3.10/dist-packages (from pdfminer.six==20221105->pdfplumber) (42.0.0)\n",
            "Requirement already satisfied: cffi>=1.12 in /usr/local/lib/python3.10/dist-packages (from cryptography>=36.0.0->pdfminer.six==20221105->pdfplumber) (1.16.0)\n",
            "Requirement already satisfied: pycparser in /usr/local/lib/python3.10/dist-packages (from cffi>=1.12->cryptography>=36.0.0->pdfminer.six==20221105->pdfplumber) (2.21)\n",
            "Requirement already satisfied: pdf2image in /usr/local/lib/python3.10/dist-packages (1.17.0)\n",
            "Requirement already satisfied: pillow in /usr/local/lib/python3.10/dist-packages (from pdf2image) (10.2.0)\n",
            "Collecting python-poppler\n",
            "  Using cached python_poppler-0.4.1.tar.gz (138 kB)\n",
            "  Installing build dependencies ... \u001b[?25l\u001b[?25hdone\n",
            "  Getting requirements to build wheel ... \u001b[?25l\u001b[?25hdone\n",
            "  Installing backend dependencies ... \u001b[?25l\u001b[?25hdone\n",
            "  \u001b[1;31merror\u001b[0m: \u001b[1msubprocess-exited-with-error\u001b[0m\n",
            "  \n",
            "  \u001b[31m×\u001b[0m \u001b[32mPreparing metadata \u001b[0m\u001b[1;32m(\u001b[0m\u001b[32mpyproject.toml\u001b[0m\u001b[1;32m)\u001b[0m did not run successfully.\n",
            "  \u001b[31m│\u001b[0m exit code: \u001b[1;36m1\u001b[0m\n",
            "  \u001b[31m╰─>\u001b[0m See above for output.\n",
            "  \n",
            "  \u001b[1;35mnote\u001b[0m: This error originates from a subprocess, and is likely not a problem with pip.\n",
            "  Preparing metadata (pyproject.toml) ... \u001b[?25l\u001b[?25herror\n",
            "\u001b[1;31merror\u001b[0m: \u001b[1mmetadata-generation-failed\u001b[0m\n",
            "\n",
            "\u001b[31m×\u001b[0m Encountered error while generating package metadata.\n",
            "\u001b[31m╰─>\u001b[0m See above for output.\n",
            "\n",
            "\u001b[1;35mnote\u001b[0m: This is an issue with the package mentioned above, not pip.\n",
            "\u001b[1;36mhint\u001b[0m: See above for details.\n",
            "Requirement already satisfied: pytesseract in /usr/local/lib/python3.10/dist-packages (0.3.10)\n",
            "Requirement already satisfied: packaging>=21.3 in /usr/local/lib/python3.10/dist-packages (from pytesseract) (23.2)\n",
            "Requirement already satisfied: Pillow>=8.0.0 in /usr/local/lib/python3.10/dist-packages (from pytesseract) (10.2.0)\n",
            "Requirement already satisfied: PyMuPDF in /usr/local/lib/python3.10/dist-packages (1.23.19)\n",
            "Requirement already satisfied: PyMuPDFb==1.23.9 in /usr/local/lib/python3.10/dist-packages (from PyMuPDF) (1.23.9)\n",
            "Reading package lists... Done\n",
            "Building dependency tree... Done\n",
            "Reading state information... Done\n",
            "tesseract-ocr is already the newest version (4.1.1-2.1build1).\n",
            "0 upgraded, 0 newly installed, 0 to remove and 30 not upgraded.\n",
            "Requirement already satisfied: pdf2jpg in /usr/local/lib/python3.10/dist-packages (1.1)\n",
            "Requirement already satisfied: img2pdf in /usr/local/lib/python3.10/dist-packages (from pdf2jpg) (0.5.1)\n",
            "Requirement already satisfied: Pillow in /usr/local/lib/python3.10/dist-packages (from img2pdf->pdf2jpg) (10.2.0)\n",
            "Requirement already satisfied: pikepdf in /usr/local/lib/python3.10/dist-packages (from img2pdf->pdf2jpg) (8.11.2)\n",
            "Requirement already satisfied: Deprecated in /usr/local/lib/python3.10/dist-packages (from pikepdf->img2pdf->pdf2jpg) (1.2.14)\n",
            "Requirement already satisfied: packaging in /usr/local/lib/python3.10/dist-packages (from pikepdf->img2pdf->pdf2jpg) (23.2)\n",
            "Requirement already satisfied: lxml>=4.8 in /usr/local/lib/python3.10/dist-packages (from pikepdf->img2pdf->pdf2jpg) (4.9.4)\n",
            "Requirement already satisfied: wrapt<2,>=1.10 in /usr/local/lib/python3.10/dist-packages (from Deprecated->pikepdf->img2pdf->pdf2jpg) (1.14.1)\n"
          ]
        }
      ],
      "source": [
        "!pip3 install PyPDF2\n",
        "!pip install pdfplumber\n",
        "!pip install pdf2image\n",
        "!pip install python-poppler\n",
        "!pip install pytesseract\n",
        "!pip install PyMuPDF\n",
        "!sudo apt install tesseract-ocr\n",
        "!pip install pdf2jpg\n",
        "# !pip install ironpdf\n",
        "# from ironpdf import *\n",
        "from pdf2jpg import pdf2jpg\n",
        "import pytesseract\n",
        "import shutil\n",
        "import os\n",
        "import random\n",
        "try:\n",
        " from PIL import Image\n",
        "except ImportError:\n",
        " import Image\n",
        "import fitz\n",
        "from pdf2image import convert_from_path\n",
        "import pdfplumber\n",
        "from PyPDF2 import PdfWriter, PdfReader\n",
        "import re\n",
        "import os\n",
        "import pandas as pd\n",
        "import requests\n",
        "import httplib2\n",
        "import gdown\n",
        "from apiclient import discovery\n",
        "from google.oauth2 import service_account\n",
        "from google.colab import auth\n",
        "from pydrive.auth import GoogleAuth\n",
        "from pydrive.drive import GoogleDrive\n",
        "from oauth2client.client import GoogleCredentials\n",
        "import gspread\n",
        "from google.auth import default"
      ]
    },
    {
      "cell_type": "code",
      "execution_count": null,
      "metadata": {
        "id": "SIaNRqH5gOi4",
        "colab": {
          "base_uri": "https://localhost:8080/"
        },
        "outputId": "ac633146-196c-4b90-fd92-1be75bf52f6a"
      },
      "outputs": [
        {
          "output_type": "stream",
          "name": "stdout",
          "text": [
            "Drive already mounted at /content/drive; to attempt to forcibly remount, call drive.mount(\"/content/drive\", force_remount=True).\n"
          ]
        }
      ],
      "source": [
        "from google.colab import drive\n",
        "drive.mount('/content/drive')"
      ]
    },
    {
      "cell_type": "markdown",
      "metadata": {
        "id": "az85gfWC0AT1"
      },
      "source": [
        "### Configuration Variables\n",
        "\n",
        "##### Purpose:\n",
        "Folder_ID:\n",
        "The folder ID is the end of the URL of the parent folder that you want to use in google drive\n",
        "\n",
        "Spreadsheet_ID:\n",
        "The ID of the master spreadsheet that has name and UID"
      ]
    },
    {
      "cell_type": "code",
      "execution_count": null,
      "metadata": {
        "id": "Vzql0XFhz_aM"
      },
      "outputs": [],
      "source": [
        "school = \"Cristo Rey Brooklyn High School\"\n",
        "year = 2024\n",
        "pdf_len = 1\n",
        "imentor_profile = '/content/drive/MyDrive/_test iMentor Profiles'\n",
        "imentor_pdf = '/content/drive/MyDrive/_RC 2024 - MP1'\n",
        "\n",
        "# SCOPES = ['https://www.googleapis.com/auth/spreadsheets', 'https://www.googleapis.com/auth/drive','https://www.googleapis.com/auth/drive.file']\n",
        "# folder_id = \"13PqiFH-iFmza5WSbmdE8F8DWD3zAwnbg\"\n",
        "# SAMPLE_SPREADSHEET_ID_input = \"1T_rP5qUWfGXTPVHyCoSz2wi__KMc5JCvYNv910l46P4\""
      ]
    },
    {
      "cell_type": "markdown",
      "metadata": {
        "id": "Ha4l24EM8hbo"
      },
      "source": [
        "## Important Funtions\n",
        "I have included 3 different funtions that play an important role in the execution of this notebook.\n",
        "\n",
        "#### Get_Files_In_Folder:\n",
        "This does exactly what it sounds like. It a recursive funtion that continually goes deeper into a parent folder tree to extract all the files that may be within that folder structure. As you would have guessed we are using this function to get all the PDF's within a parent folder.\n",
        "\n",
        "#### Compare_List:\n",
        "This funtion is being used once we have pulled the data from a single page in a PDF and we want to find the first and last name of a student. It starts by getting the data from Google Sheets, specifically First/Last name and Uinique Identifier. We then percede to find the first and last name in the pdf for each name in the list.\n",
        "\n",
        "#### Get_Google_Sheets:\n",
        "This is the function that was referenced above. It is being used to connect to Google Sheets and pull out the first few columns of data."
      ]
    },
    {
      "cell_type": "code",
      "execution_count": null,
      "metadata": {
        "id": "ZVfJRdp44KxP"
      },
      "outputs": [],
      "source": [
        "def get_files_in_folder(folder_id, service):\n",
        "    query = f\"'{folder_id}' in parents and trashed=false\"\n",
        "    response = service.files().list(q=query, fields='files(name,id,mimeType,webViewLink,createdTime,modifiedTime)').execute()\n",
        "    files = response.get('files', [])\n",
        "    dfs = [pd.DataFrame(files)]\n",
        "    for file in files:\n",
        "        if file['mimeType'] == 'application/vnd.google-apps.folder':\n",
        "            dfs.append(get_files_in_folder(folder_id=file['id'], service=service))\n",
        "    return pd.concat(dfs, ignore_index=True)\n",
        "\n",
        "\n",
        "def get_files_in_folder_drive(directory):\n",
        "    pdf_dict = {}\n",
        "    for root, dirs, files in os.walk(directory,topdown=True):\n",
        "        #\n",
        "        # pdf_list = [file for file in files if '.pdf' in file]\n",
        "        for file in files:\n",
        "            if 'pdf' in file[-3:]:\n",
        "                # pdf_list.append(root +'/' +file)\n",
        "                pdf_dict[root+'/'+file] = root\n",
        "    return pdf_dict\n",
        "\n"
      ]
    },
    {
      "cell_type": "code",
      "execution_count": null,
      "metadata": {
        "id": "8r1EcERsi_M4",
        "colab": {
          "base_uri": "https://localhost:8080/"
        },
        "outputId": "07c7a02c-5ea2-4f2e-9356-a4867935574f"
      },
      "outputs": [
        {
          "output_type": "stream",
          "name": "stdout",
          "text": [
            "{'/content/drive/MyDrive/_RC 2024 - MP1/12th Q1 Report Cards (2023-2024).pdf': '/content/drive/MyDrive/_RC 2024 - MP1'}\n"
          ]
        }
      ],
      "source": [
        "print(get_files_in_folder_drive(imentor_pdf))"
      ]
    },
    {
      "cell_type": "markdown",
      "metadata": {
        "id": "tfzGAr9xVJc7"
      },
      "source": [
        "#### Compare Lists"
      ]
    },
    {
      "cell_type": "code",
      "execution_count": null,
      "metadata": {
        "id": "akrQ85Ph79PX"
      },
      "outputs": [],
      "source": [
        "def Compare_List(text):\n",
        "    first = []\n",
        "    last = []\n",
        "    uid = []\n",
        "    first_dict = {}\n",
        "    data = Get_Google()\n",
        "    first_list = list(data['First Name'])\n",
        "    last_list = list(data[\"Last Name\"])\n",
        "    uid_list = list(data['User ID'])\n",
        "    for student in first_list:\n",
        "        if student in text:\n",
        "            first_dict[student] = first_list.index(student)\n",
        "    for index in first_dict.keys():\n",
        "        if last_list[first_dict[index]] in text:\n",
        "            first.append(index)\n",
        "            last.append(last_list[first_dict[index]])\n",
        "            uid.append(uid_list[first_dict[index]])\n",
        "    if len(first) > 1:\n",
        "        print(\"there are multiple matches\")\n",
        "    elif len(first) < 1:\n",
        "        print(text)\n",
        "        raise Exception(\"No Matches Found\")\n",
        "    name_str = last[0]+\",\"+first[0]+\" \"+\"(\"+str(uid[0])+\")\"\n",
        "    pdf = last[0]+\",\"+first[0]+\" \"+\"(\"+str(uid[0])+\")\"\n",
        "    return name_str,pdf"
      ]
    },
    {
      "cell_type": "markdown",
      "metadata": {
        "id": "4KupZVk5TYQW"
      },
      "source": [
        "##### Compare_List Test"
      ]
    },
    {
      "cell_type": "code",
      "execution_count": null,
      "metadata": {
        "id": "J2k3PUW0TXdx",
        "colab": {
          "base_uri": "https://localhost:8080/",
          "height": 332
        },
        "outputId": "03a32f97-84e0-4346-df0a-c40a66de05b9"
      },
      "outputs": [
        {
          "output_type": "stream",
          "name": "stdout",
          "text": [
            "Zoey French\n"
          ]
        },
        {
          "output_type": "error",
          "ename": "Exception",
          "evalue": "No Matches Found",
          "traceback": [
            "\u001b[0;31m---------------------------------------------------------------------------\u001b[0m",
            "\u001b[0;31mException\u001b[0m                                 Traceback (most recent call last)",
            "\u001b[0;32m<ipython-input-90-b0b950e22e8d>\u001b[0m in \u001b[0;36m<cell line: 2>\u001b[0;34m()\u001b[0m\n\u001b[1;32m      1\u001b[0m \u001b[0mtext\u001b[0m \u001b[0;34m=\u001b[0m \u001b[0;34m\"Zoey French\"\u001b[0m\u001b[0;34m\u001b[0m\u001b[0;34m\u001b[0m\u001b[0m\n\u001b[0;32m----> 2\u001b[0;31m \u001b[0mCompare_List\u001b[0m\u001b[0;34m(\u001b[0m\u001b[0mtext\u001b[0m\u001b[0;34m)\u001b[0m\u001b[0;34m\u001b[0m\u001b[0;34m\u001b[0m\u001b[0m\n\u001b[0m",
            "\u001b[0;32m<ipython-input-89-b4a011a3a6ba>\u001b[0m in \u001b[0;36mCompare_List\u001b[0;34m(text)\u001b[0m\n\u001b[1;32m     20\u001b[0m     \u001b[0;32melif\u001b[0m \u001b[0mlen\u001b[0m\u001b[0;34m(\u001b[0m\u001b[0mfirst\u001b[0m\u001b[0;34m)\u001b[0m \u001b[0;34m<\u001b[0m \u001b[0;36m1\u001b[0m\u001b[0;34m:\u001b[0m\u001b[0;34m\u001b[0m\u001b[0;34m\u001b[0m\u001b[0m\n\u001b[1;32m     21\u001b[0m         \u001b[0mprint\u001b[0m\u001b[0;34m(\u001b[0m\u001b[0mtext\u001b[0m\u001b[0;34m)\u001b[0m\u001b[0;34m\u001b[0m\u001b[0;34m\u001b[0m\u001b[0m\n\u001b[0;32m---> 22\u001b[0;31m         \u001b[0;32mraise\u001b[0m \u001b[0mException\u001b[0m\u001b[0;34m(\u001b[0m\u001b[0;34m\"No Matches Found\"\u001b[0m\u001b[0;34m)\u001b[0m\u001b[0;34m\u001b[0m\u001b[0;34m\u001b[0m\u001b[0m\n\u001b[0m\u001b[1;32m     23\u001b[0m     \u001b[0mname_str\u001b[0m \u001b[0;34m=\u001b[0m \u001b[0mlast\u001b[0m\u001b[0;34m[\u001b[0m\u001b[0;36m0\u001b[0m\u001b[0;34m]\u001b[0m\u001b[0;34m+\u001b[0m\u001b[0;34m\",\"\u001b[0m\u001b[0;34m+\u001b[0m\u001b[0mfirst\u001b[0m\u001b[0;34m[\u001b[0m\u001b[0;36m0\u001b[0m\u001b[0;34m]\u001b[0m\u001b[0;34m+\u001b[0m\u001b[0;34m\" \"\u001b[0m\u001b[0;34m+\u001b[0m\u001b[0;34m\"(\"\u001b[0m\u001b[0;34m+\u001b[0m\u001b[0mstr\u001b[0m\u001b[0;34m(\u001b[0m\u001b[0muid\u001b[0m\u001b[0;34m[\u001b[0m\u001b[0;36m0\u001b[0m\u001b[0;34m]\u001b[0m\u001b[0;34m)\u001b[0m\u001b[0;34m+\u001b[0m\u001b[0;34m\")\"\u001b[0m\u001b[0;34m\u001b[0m\u001b[0;34m\u001b[0m\u001b[0m\n\u001b[1;32m     24\u001b[0m     \u001b[0mpdf\u001b[0m \u001b[0;34m=\u001b[0m \u001b[0mlast\u001b[0m\u001b[0;34m[\u001b[0m\u001b[0;36m0\u001b[0m\u001b[0;34m]\u001b[0m\u001b[0;34m+\u001b[0m\u001b[0;34m\",\"\u001b[0m\u001b[0;34m+\u001b[0m\u001b[0mfirst\u001b[0m\u001b[0;34m[\u001b[0m\u001b[0;36m0\u001b[0m\u001b[0;34m]\u001b[0m\u001b[0;34m+\u001b[0m\u001b[0;34m\" \"\u001b[0m\u001b[0;34m+\u001b[0m\u001b[0;34m\"(\"\u001b[0m\u001b[0;34m+\u001b[0m\u001b[0mstr\u001b[0m\u001b[0;34m(\u001b[0m\u001b[0muid\u001b[0m\u001b[0;34m[\u001b[0m\u001b[0;36m0\u001b[0m\u001b[0;34m]\u001b[0m\u001b[0;34m)\u001b[0m\u001b[0;34m+\u001b[0m\u001b[0;34m\")\"\u001b[0m\u001b[0;34m\u001b[0m\u001b[0;34m\u001b[0m\u001b[0m\n",
            "\u001b[0;31mException\u001b[0m: No Matches Found"
          ]
        }
      ],
      "source": [
        "text = \"Zoey French\"\n",
        "Compare_List(text)"
      ]
    },
    {
      "cell_type": "markdown",
      "metadata": {
        "id": "a4ToDxHGVUjU"
      },
      "source": [
        "#### Get Google Sheet"
      ]
    },
    {
      "cell_type": "code",
      "execution_count": null,
      "metadata": {
        "id": "7j8Xe2pO8C3q"
      },
      "outputs": [],
      "source": [
        "def Get_Google_Sheet():\n",
        "    Secret_File = os.path.join(os.getcwd(), 'ssp-key.json')\n",
        "    global values_input, service\n",
        "    creds = service_account.Credentials.from_service_account_file(filename=Secret_File, scopes=SCOPES)\n",
        "    service = discovery.build('sheets', 'v4', credentials=creds)\n",
        "    range_name = 'A:D'\n",
        "    sheet = service.spreadsheets()\n",
        "    result_input = sheet.values().get(spreadsheetId=SAMPLE_SPREADSHEET_ID_input,  range=range_name).execute()\n",
        "    values_input = result_input.get('values', [])\n",
        "    data = pd.DataFrame(values_input[1:], columns=values_input[0])\n",
        "    return(data)\n",
        "\n",
        "def Get_Google():\n",
        "    file_loc = \"/content/drive/MyDrive/_RC 2024 - MP1/SSP 2024-2027 student info.xlsx\"\n",
        "    df = pd.read_excel(file_loc, index_col=None, usecols=\"A,G,H\")\n",
        "    return df"
      ]
    },
    {
      "cell_type": "markdown",
      "metadata": {
        "id": "9TG_RgaaUl1x"
      },
      "source": [
        "##### Get_Google Sheet Test"
      ]
    },
    {
      "cell_type": "code",
      "execution_count": null,
      "metadata": {
        "id": "J34CPLdoUmYq",
        "colab": {
          "base_uri": "https://localhost:8080/"
        },
        "outputId": "ff6fc158-3027-4d44-8744-f463280a26dd"
      },
      "outputs": [
        {
          "output_type": "stream",
          "name": "stdout",
          "text": [
            "Abdoul269837\n"
          ]
        }
      ],
      "source": [
        "gg = Get_Google()\n",
        "print(gg['First Name'][0] + str(gg['User ID'][0]))\n"
      ]
    },
    {
      "cell_type": "markdown",
      "metadata": {
        "id": "mF_zdOV2_Qhv"
      },
      "source": [
        "## The Program Flow"
      ]
    },
    {
      "cell_type": "code",
      "execution_count": null,
      "metadata": {
        "id": "YEy2mqU51atG"
      },
      "outputs": [],
      "source": [
        "def test_library(root):\n",
        "    text = []\n",
        "    for root, dirs, files in os.walk('{}/Photos'.format(root),topdown=True):\n",
        "    # doc = fitz.open(file) # open a document\n",
        "    # for page in doc: # iterate the document pages\n",
        "    #   text = page.get_text() # get plain text encoded as UTF-8\n",
        "    #   print(text)\n",
        "\n",
        "        for file in files:\n",
        "            if '.pdf' in file:\n",
        "            # pdf_list.append(root +'/' +file)\n",
        "                text.append(pytesseract.image_to_string(root +'/' +file))\n",
        "            print(text)\n",
        "    return text\n"
      ]
    },
    {
      "cell_type": "code",
      "execution_count": null,
      "metadata": {
        "id": "DzakIizJPLiK"
      },
      "outputs": [],
      "source": [
        "\n",
        "def pdf_image(file, root):\n",
        "\n",
        "    outputpath = \"{}/Photos\".format(root)\n",
        "    if not os.path.exists(outputpath):\n",
        "        os.makedirs(outputpath)\n",
        "    # pdf = PdfDocument.FromFile(file)\n",
        "\n",
        "\n",
        "    # Extract all pages to a folder as image files\n",
        "    # pdf.RasterizeToImageFiles(\"{}/Photos/*.png\".format(root),DPI=96)\n",
        "\n",
        "    result = pdf2jpg.convert_pdf2jpg(file,outputpath, pages=\"ALL\")\n",
        "    return test_library(root)\n",
        "    # Store Pdf with convert_from_path function\n",
        "    # images = convert_from_path(file)\n",
        "    # print(\"Checkpoint-----\")\n",
        "\n",
        "    # for i in range(len(images)):\n",
        "    #     images[i].save('./page'+ str(i) +'.jpg', 'JPEG')\n",
        "    # test_library('./page1.jpg')"
      ]
    },
    {
      "cell_type": "code",
      "execution_count": null,
      "metadata": {
        "id": "NsyCwLNPAONL",
        "colab": {
          "base_uri": "https://localhost:8080/"
        },
        "outputId": "9008bcae-44e9-4496-a738-3896967c9454"
      },
      "outputs": [
        {
          "output_type": "execute_result",
          "data": {
            "text/plain": [
              "{'/content/drive/MyDrive/_RC 2024 - MP1/12th Q1 Report Cards (2023-2024).pdf': '/content/drive/MyDrive/_RC 2024 - MP1'}"
            ]
          },
          "metadata": {},
          "execution_count": 21
        }
      ],
      "source": [
        "df = get_files_in_folder_drive(imentor_pdf)\n",
        "df"
      ]
    },
    {
      "cell_type": "code",
      "execution_count": null,
      "metadata": {
        "id": "ZJsNEMGV1A7e",
        "colab": {
          "base_uri": "https://localhost:8080/"
        },
        "outputId": "9486cbb7-2878-4cef-c36c-22e83918bd02"
      },
      "outputs": [
        {
          "output_type": "stream",
          "name": "stdout",
          "text": [
            "['yy\"? REY\\n\\nBrooklyn\\n\\nHIGH SCHOOL\\n\\nReport Card: Quarter 1\\n\\nHamblin, Kareem\\nGrade: 12, 2023-2024\\n\\nCristo Rey Brooklyn High School\\n710 E. 37th Street\\nBrooklyn, New York 11203\\n(718) 455-3555\\nWilliam Henson, President\\nDeanna Philippe, Principal\\n\\n \\n\\n \\n\\n \\n\\n \\n\\n \\n\\n \\n\\n \\n\\n \\n\\n \\n\\nCourse Teacher Q1%| Qi T A | Teacher Comments\\n\\nEnglish IV Klein, Bill 86 B 0 1\\n\\nSenior Art Fernandez, Romina 91 A- 1 2 Makes an effort to understand the material, a pleasure to have in\\nclass.\\n\\nProbability and Statistics Boukerrou, Kamel 69 F 1 1 Student failed the quizzes and tests. He should take advantage of\\noffice hours for assistance and retake the tests. Homework should\\nalso be redone for better understanding of the material and better\\nGPA.\\n\\nPhysics Manlangit, Matthew 77 C+ 0 2\\n\\nEconomics Brady, Michael 76 C 0 1\\n\\nCWS Work Day - Senior Staff, CWS 98 A 0 0\\n\\nCollege Counseling Mitchell, Christine 80 B- 0 0\\n\\nSenior PE & Wellness Mitchell, Dee-Ana 100 A 0 1\\n\\nTheology IV Matejka, Brooke 81 B- 1 1\\n\\nChristian Service Hours Powell, Krystle 84 84 0 0\\n\\nQuarter Average: 78%\\nGrade Scale\\nA=96-100 A-=90-95 B+=87-89 B= 83-86 B- = 80-82, C+=77-79 C=73-76 C- = 70-72\\n\\n \\n\\n \\n\\nSEE BACK OF PAGE FOR UPCOMING EVENTS AND IMPORTANT INFORMATION.\\n\\n \\n\\n \\n\\x0c']\n",
            "['yy\"? REY\\n\\nBrooklyn\\n\\nHIGH SCHOOL\\n\\nReport Card: Quarter 1\\n\\nHamblin, Kareem\\nGrade: 12, 2023-2024\\n\\nCristo Rey Brooklyn High School\\n710 E. 37th Street\\nBrooklyn, New York 11203\\n(718) 455-3555\\nWilliam Henson, President\\nDeanna Philippe, Principal\\n\\n \\n\\n \\n\\n \\n\\n \\n\\n \\n\\n \\n\\n \\n\\n \\n\\n \\n\\nCourse Teacher Q1%| Qi T A | Teacher Comments\\n\\nEnglish IV Klein, Bill 86 B 0 1\\n\\nSenior Art Fernandez, Romina 91 A- 1 2 Makes an effort to understand the material, a pleasure to have in\\nclass.\\n\\nProbability and Statistics Boukerrou, Kamel 69 F 1 1 Student failed the quizzes and tests. He should take advantage of\\noffice hours for assistance and retake the tests. Homework should\\nalso be redone for better understanding of the material and better\\nGPA.\\n\\nPhysics Manlangit, Matthew 77 C+ 0 2\\n\\nEconomics Brady, Michael 76 C 0 1\\n\\nCWS Work Day - Senior Staff, CWS 98 A 0 0\\n\\nCollege Counseling Mitchell, Christine 80 B- 0 0\\n\\nSenior PE & Wellness Mitchell, Dee-Ana 100 A 0 1\\n\\nTheology IV Matejka, Brooke 81 B- 1 1\\n\\nChristian Service Hours Powell, Krystle 84 84 0 0\\n\\nQuarter Average: 78%\\nGrade Scale\\nA=96-100 A-=90-95 B+=87-89 B= 83-86 B- = 80-82, C+=77-79 C=73-76 C- = 70-72\\n\\n \\n\\n \\n\\nSEE BACK OF PAGE FOR UPCOMING EVENTS AND IMPORTANT INFORMATION.\\n\\n \\n\\n \\n\\x0c', 'yy\"? REY\\n\\nBrooklyn\\n\\nHIGH SCHOOL\\n\\nReport Card: Quarter 1\\n\\nPlasencia, Peterson\\nGrade: 12, 2023-2024\\n\\nCristo Rey Brooklyn High School\\n710 E. 37th Street\\nBrooklyn, New York 11203\\n(718) 455-3555\\nWilliam Henson, President\\nDeanna Philippe, Principal\\n\\n \\n\\n \\n\\n \\n\\n \\n\\n \\n\\n \\n\\n \\n\\n \\n\\n \\n\\nCourse Teacher Q1%| Qi Teacher Comments\\n\\nEnglish IV Klein, Bill 87 Bt\\n\\nProbability and Statistics Boukerrou, Kamel 64 F Student missed 6 homework assignments out of 9. He failed the\\nquizzes and one test. He should take advantage of office hours for\\nhelp and retake the quizzes.\\n\\nPhysics Manlangit, Matthew 79 C+\\n\\nEconomics Brady, Michael 61 F Frequent latenesses and low grades on major assignments account\\nfor Peterson\\'s failing grade this quarter. Going forward he should\\nmake a concerted effort to be on time and come to office hours on\\nThursdays to review the material.\\n\\nPhilosophy in Current Events Manlangit, Matthew 50 F Missing major assignment (essay). MIssing homework. Missing\\nessay.\\n\\nCWS Work Day - Senior Staff, CWS 50 F Student did not complete all required assignments in Q1.\\nCompleting all timecards and assignments will lead to increased\\ngrades in Q2. Students that do not pass S1 will be required to\\nparticipate in Executive Coaching in 2024.\\n\\nCollege Counseling Mitchell, Christine 72 C-\\n\\nSenior PE & Wellness Mitchell, Dee-Ana 94 A-\\n\\nTheology IV Matejka, Brooke 63 F Peterson is a very capable student and has a good attitude, but\\nsometimes struggles to complete out of class work for homework\\nand prepping for assignments. He could benefit from speaking up\\nmore during class to participate in Socratic seminars, case studies,\\nand large group discussions.\\n\\nChristian Service Hours Powell, Krystle 20 20\\n\\nQuarter Average: 71%\\nGrade Scale\\nA=96-100 A-=90-95 B+=87-89 B= 83-86 B- = 80-82, C+=77-79 C=73-76 C- = 70-72\\n\\n \\n\\n \\n\\nSEE BACK OF PAGE FOR UPCOMING EVENTS AND IMPORTANT INFORMATION.\\n\\n \\n\\n \\n\\x0c']\n",
            "['yy\"? REY\\n\\nBrooklyn\\n\\nHIGH SCHOOL\\n\\nReport Card: Quarter 1\\n\\nHamblin, Kareem\\nGrade: 12, 2023-2024\\n\\nCristo Rey Brooklyn High School\\n710 E. 37th Street\\nBrooklyn, New York 11203\\n(718) 455-3555\\nWilliam Henson, President\\nDeanna Philippe, Principal\\n\\n \\n\\n \\n\\n \\n\\n \\n\\n \\n\\n \\n\\n \\n\\n \\n\\n \\n\\nCourse Teacher Q1%| Qi T A | Teacher Comments\\n\\nEnglish IV Klein, Bill 86 B 0 1\\n\\nSenior Art Fernandez, Romina 91 A- 1 2 Makes an effort to understand the material, a pleasure to have in\\nclass.\\n\\nProbability and Statistics Boukerrou, Kamel 69 F 1 1 Student failed the quizzes and tests. He should take advantage of\\noffice hours for assistance and retake the tests. Homework should\\nalso be redone for better understanding of the material and better\\nGPA.\\n\\nPhysics Manlangit, Matthew 77 C+ 0 2\\n\\nEconomics Brady, Michael 76 C 0 1\\n\\nCWS Work Day - Senior Staff, CWS 98 A 0 0\\n\\nCollege Counseling Mitchell, Christine 80 B- 0 0\\n\\nSenior PE & Wellness Mitchell, Dee-Ana 100 A 0 1\\n\\nTheology IV Matejka, Brooke 81 B- 1 1\\n\\nChristian Service Hours Powell, Krystle 84 84 0 0\\n\\nQuarter Average: 78%\\nGrade Scale\\nA=96-100 A-=90-95 B+=87-89 B= 83-86 B- = 80-82, C+=77-79 C=73-76 C- = 70-72\\n\\n \\n\\n \\n\\nSEE BACK OF PAGE FOR UPCOMING EVENTS AND IMPORTANT INFORMATION.\\n\\n \\n\\n \\n\\x0c', 'yy\"? REY\\n\\nBrooklyn\\n\\nHIGH SCHOOL\\n\\nReport Card: Quarter 1\\n\\nPlasencia, Peterson\\nGrade: 12, 2023-2024\\n\\nCristo Rey Brooklyn High School\\n710 E. 37th Street\\nBrooklyn, New York 11203\\n(718) 455-3555\\nWilliam Henson, President\\nDeanna Philippe, Principal\\n\\n \\n\\n \\n\\n \\n\\n \\n\\n \\n\\n \\n\\n \\n\\n \\n\\n \\n\\nCourse Teacher Q1%| Qi Teacher Comments\\n\\nEnglish IV Klein, Bill 87 Bt\\n\\nProbability and Statistics Boukerrou, Kamel 64 F Student missed 6 homework assignments out of 9. He failed the\\nquizzes and one test. He should take advantage of office hours for\\nhelp and retake the quizzes.\\n\\nPhysics Manlangit, Matthew 79 C+\\n\\nEconomics Brady, Michael 61 F Frequent latenesses and low grades on major assignments account\\nfor Peterson\\'s failing grade this quarter. Going forward he should\\nmake a concerted effort to be on time and come to office hours on\\nThursdays to review the material.\\n\\nPhilosophy in Current Events Manlangit, Matthew 50 F Missing major assignment (essay). MIssing homework. Missing\\nessay.\\n\\nCWS Work Day - Senior Staff, CWS 50 F Student did not complete all required assignments in Q1.\\nCompleting all timecards and assignments will lead to increased\\ngrades in Q2. Students that do not pass S1 will be required to\\nparticipate in Executive Coaching in 2024.\\n\\nCollege Counseling Mitchell, Christine 72 C-\\n\\nSenior PE & Wellness Mitchell, Dee-Ana 94 A-\\n\\nTheology IV Matejka, Brooke 63 F Peterson is a very capable student and has a good attitude, but\\nsometimes struggles to complete out of class work for homework\\nand prepping for assignments. He could benefit from speaking up\\nmore during class to participate in Socratic seminars, case studies,\\nand large group discussions.\\n\\nChristian Service Hours Powell, Krystle 20 20\\n\\nQuarter Average: 71%\\nGrade Scale\\nA=96-100 A-=90-95 B+=87-89 B= 83-86 B- = 80-82, C+=77-79 C=73-76 C- = 70-72\\n\\n \\n\\n \\n\\nSEE BACK OF PAGE FOR UPCOMING EVENTS AND IMPORTANT INFORMATION.\\n\\n \\n\\n \\n\\x0c']\n",
            "yy\"? REY\n",
            "\n",
            "Brooklyn\n",
            "\n",
            "HIGH SCHOOL\n",
            "\n",
            "Report Card: Quarter 1\n",
            "\n",
            "Hamblin, Kareem\n",
            "Grade: 12, 2023-2024\n",
            "\n",
            "Cristo Rey Brooklyn High School\n",
            "710 E. 37th Street\n",
            "Brooklyn, New York 11203\n",
            "(718) 455-3555\n",
            "William Henson, President\n",
            "Deanna Philippe, Principal\n",
            "\n",
            " \n",
            "\n",
            " \n",
            "\n",
            " \n",
            "\n",
            " \n",
            "\n",
            " \n",
            "\n",
            " \n",
            "\n",
            " \n",
            "\n",
            " \n",
            "\n",
            " \n",
            "\n",
            "Course Teacher Q1%| Qi T A | Teacher Comments\n",
            "\n",
            "English IV Klein, Bill 86 B 0 1\n",
            "\n",
            "Senior Art Fernandez, Romina 91 A- 1 2 Makes an effort to understand the material, a pleasure to have in\n",
            "class.\n",
            "\n",
            "Probability and Statistics Boukerrou, Kamel 69 F 1 1 Student failed the quizzes and tests. He should take advantage of\n",
            "office hours for assistance and retake the tests. Homework should\n",
            "also be redone for better understanding of the material and better\n",
            "GPA.\n",
            "\n",
            "Physics Manlangit, Matthew 77 C+ 0 2\n",
            "\n",
            "Economics Brady, Michael 76 C 0 1\n",
            "\n",
            "CWS Work Day - Senior Staff, CWS 98 A 0 0\n",
            "\n",
            "College Counseling Mitchell, Christine 80 B- 0 0\n",
            "\n",
            "Senior PE & Wellness Mitchell, Dee-Ana 100 A 0 1\n",
            "\n",
            "Theology IV Matejka, Brooke 81 B- 1 1\n",
            "\n",
            "Christian Service Hours Powell, Krystle 84 84 0 0\n",
            "\n",
            "Quarter Average: 78%\n",
            "Grade Scale\n",
            "A=96-100 A-=90-95 B+=87-89 B= 83-86 B- = 80-82, C+=77-79 C=73-76 C- = 70-72\n",
            "\n",
            " \n",
            "\n",
            " \n",
            "\n",
            "SEE BACK OF PAGE FOR UPCOMING EVENTS AND IMPORTANT INFORMATION.\n",
            "\n",
            " \n",
            "\n",
            " \n",
            "\f\n"
          ]
        }
      ],
      "source": [
        "# get_files()\n",
        "df = get_files_in_folder_drive(imentor_pdf)\n",
        "j = 0\n",
        "temporarytext = []\n",
        "for file in df.keys():#os.listdir(\"./temp_dir\"):\n",
        "    j += 1\n",
        "    # if 'pdf' not in file:\n",
        "    #     continue\n",
        "    texts = pdf_image(file, df[file])\n",
        "    print(texts)\n",
        "    # inputpdf =pdfplumber.open(file)\n",
        "    # print(inputpdf.pages[0].extract_text())\n",
        "    inputpdf = PdfReader(open(file, \"rb\"))\n",
        "    for i in range(0,len(inputpdf.pages),pdf_len):\n",
        "        text = texts[i]\n",
        "        temporarytext.append(text)\n",
        "        output = PdfWriter()\n",
        "        output2 = PdfWriter()\n",
        "        # print(text)\n",
        "        output.add_page(inputpdf.pages[i])\n",
        "        output2.add_page(inputpdf.pages[i])\n",
        "        # text = inputpdf.pages[i].extract_text()\n",
        "        # student_dict = Get_Str_Info(text)\n",
        "        try:\n",
        "            name,pdf = Compare_List(text)\n",
        "        except Exception as e:\n",
        "            path = \"{}/{}/{}/{}/{}\".format(imentor_profile, 'Error', year,school, j)\n",
        "            if not os.path.exists(path):\n",
        "                os.makedirs(path)\n",
        "            with open(r\"{}/{}/{}/{}/{}/{}.pdf\".format(imentor_profile, 'Error', year,school, j, i), \"wb\") as outputStream:\n",
        "                output.write(outputStream)\n",
        "            continue\n",
        "        path = \"{}/{}/{}/{}\".format(imentor_profile, year,school, name)\n",
        "        path2 = \"{}/{}/{}/{}\".format(imentor_profile, year, school, 'File Dump')\n",
        "        if not os.path.exists(path):\n",
        "            os.makedirs(path)\n",
        "        if not os.path.exists(path2):\n",
        "            os.makedirs(path2)\n",
        "        with open(r\"{}/{}/{}/{}/{}.pdf\".format(imentor_profile, year,school, name, pdf), \"wb\") as outputStream:\n",
        "            output.write(outputStream)\n",
        "        with open(r\"{}/{}/{}/{}/{}.pdf\".format(imentor_profile, year, school, 'File Dump', pdf), \"wb\") as outputStream2:\n",
        "            output2.write(outputStream2)\n",
        "        # with open(r\"{}/{}/{}/{}/{}.pdf\".format(imentor_profile, year,school, name, pdf), \"wb\") as outputStream:\n",
        "        #     output.write(outputStream)\n",
        "\n",
        "    shutil.rmtree(\"{}/Photos\".format(df[file]))"
      ]
    },
    {
      "cell_type": "markdown",
      "metadata": {
        "id": "EcdFxdapghhC"
      },
      "source": [
        "#### Honarable Mention\n",
        "\n",
        "This Funtion uses regular expressions to get the student name and information from the PDF"
      ]
    },
    {
      "cell_type": "code",
      "execution_count": null,
      "metadata": {
        "id": "q4Pg4ojmCTHo"
      },
      "outputs": [],
      "source": [
        "def Get_Str_Info(text):\n",
        "    print(\"----------------------------\")\n",
        "    grade = re.search(\"^Grade:.*\\d\", text).group()\n",
        "    Name = re.search(\".*, [a-zA-Z]*\", text).group()\n",
        "    School = re.search(\".*High School\", text).group()\n",
        "    year_list = re.findall(\"20[23][23]\", text)\n",
        "    year = 0\n",
        "    for i in year_list:\n",
        "        if int(i) > year:\n",
        "            year = int(i)\n",
        "    child_dict = [Name.replace(\", \", \"_\"), grade.replace(\": \", \"_\"), School.replace(\" \", \"_\"), year]\n",
        "    print(child_dict)\n",
        "    return child_dict"
      ]
    }
  ],
  "metadata": {
    "colab": {
      "provenance": []
    },
    "kernelspec": {
      "display_name": "Python 3",
      "name": "python3"
    },
    "language_info": {
      "name": "python"
    }
  },
  "nbformat": 4,
  "nbformat_minor": 0
}